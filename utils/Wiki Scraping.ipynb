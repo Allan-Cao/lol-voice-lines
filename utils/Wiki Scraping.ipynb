{
 "cells": [
  {
   "cell_type": "code",
   "execution_count": 54,
   "id": "7d0a5ebf",
   "metadata": {},
   "outputs": [],
   "source": [
    "import requests as r\n",
    "import pandas as pd\n",
    "from bs4 import BeautifulSoup\n",
    "import re"
   ]
  },
  {
   "cell_type": "markdown",
   "id": "30779221",
   "metadata": {},
   "source": [
    "# All champion names"
   ]
  },
  {
   "cell_type": "code",
   "execution_count": 55,
   "id": "c7ae8517",
   "metadata": {},
   "outputs": [
    {
     "name": "stdout",
     "output_type": "stream",
     "text": [
      "['Aatrox', 'Ahri', 'Akali', 'Akshan', 'Alistar', 'Amumu', 'Anivia', 'Annie', 'Aphelios', 'Ashe', 'AurelionSol', 'Azir', 'Bard', 'Blitzcrank', 'Brand', 'Braum', 'Caitlyn', 'Camille', 'Cassiopeia', 'Chogath', 'Corki', 'Darius', 'Diana', 'Draven', 'DrMundo', 'Ekko', 'Elise', 'Evelynn', 'Ezreal', 'Fiddlesticks', 'Fiora', 'Fizz', 'Galio', 'Gangplank', 'Garen', 'Gnar', 'Gragas', 'Graves', 'Gwen', 'Hecarim', 'Heimerdinger', 'Illaoi', 'Irelia', 'Ivern', 'Janna', 'JarvanIV', 'Jax', 'Jayce', 'Jhin', 'Jinx', 'Kaisa', 'Kalista', 'Karma', 'Karthus', 'Kassadin', 'Katarina', 'Kayle', 'Kayn', 'Kennen', 'Khazix', 'Kindred', 'Kled', 'KogMaw', 'Leblanc', 'LeeSin', 'Leona', 'Lillia', 'Lissandra', 'Lucian', 'Lulu', 'Lux', 'Malphite', 'Malzahar', 'Maokai', 'MasterYi', 'MissFortune', 'MonkeyKing', 'Mordekaiser', 'Morgana', 'Nami', 'Nasus', 'Nautilus', 'Neeko', 'Nidalee', 'Nocturne', 'Nunu', 'Olaf', 'Orianna', 'Ornn', 'Pantheon', 'Poppy', 'Pyke', 'Qiyana', 'Quinn', 'Rakan', 'Rammus', 'RekSai', 'Rell', 'Renekton', 'Rengar', 'Riven', 'Rumble', 'Ryze', 'Samira', 'Sejuani', 'Senna', 'Seraphine', 'Sett', 'Shaco', 'Shen', 'Shyvana', 'Singed', 'Sion', 'Sivir', 'Skarner', 'Sona', 'Soraka', 'Swain', 'Sylas', 'Syndra', 'TahmKench', 'Taliyah', 'Talon', 'Taric', 'Teemo', 'Thresh', 'Tristana', 'Trundle', 'Tryndamere', 'TwistedFate', 'Twitch', 'Udyr', 'Urgot', 'Varus', 'Vayne', 'Veigar', 'Velkoz', 'Vex', 'Vi', 'Viego', 'Viktor', 'Vladimir', 'Volibear', 'Warwick', 'Xayah', 'Xerath', 'XinZhao', 'Yasuo', 'Yone', 'Yorick', 'Yuumi', 'Zac', 'Zed', 'Zeri', 'Ziggs', 'Zilean', 'Zoe', 'Zyra']\n"
     ]
    }
   ],
   "source": [
    "patch = \"12.2.1\"\n",
    "ddragon = r.get(f\"http://ddragon.leagueoflegends.com/cdn/{patch}/data/en_US/champion.json\").json()\n",
    "champions = list(ddragon['data'].keys())\n",
    "print(champions)"
   ]
  },
  {
   "cell_type": "code",
   "execution_count": 56,
   "id": "3253218e",
   "metadata": {},
   "outputs": [],
   "source": [
    "corrections = {\n",
    "    \"AurelionSol\": \"Aurelion_Sol\",\n",
    "    \"Chogath\": \"Cho'Gath\",\n",
    "    \"DrMundo\": \"Dr._Mundo\",\n",
    "    \"JarvanIV\": \"Jarvan_IV\",\n",
    "    \"Kaisa\": \"Kai'Sa\",\n",
    "    \"Khazix\": \"Kha'Zix\",\n",
    "    \"KogMaw\": \"Kog'Maw\",\n",
    "    \"Leblanc\": \"LeBlanc\", #wiki links are case sensitive\n",
    "    \"LeeSin\": \"Lee_Sin\",\n",
    "    \"MasterYi\": \"Master_Yi\",\n",
    "    \"MissFortune\": \"Miss_Fortune\",\n",
    "    \"MonkeyKing\": \"Wukong\", #lol\n",
    "    \"RekSai\": \"Rek'Sai\",\n",
    "    \"TahmKench\": \"Tahm_Kench\",\n",
    "    \"TwistedFate\": \"Twisted_Fate\",\n",
    "    \"Velkoz\": \"Vel'Koz\",\n",
    "    \"XinZhao\": \"Xin_Zhao\"\n",
    "}"
   ]
  },
  {
   "cell_type": "code",
   "execution_count": 57,
   "id": "f53a07ea",
   "metadata": {},
   "outputs": [],
   "source": [
    "lol_champions = list(map(corrections.get, champions, champions))"
   ]
  },
  {
   "cell_type": "markdown",
   "id": "767fc0a3",
   "metadata": {},
   "source": [
    "### Testing scraping League of Legends wiki"
   ]
  },
  {
   "cell_type": "code",
   "execution_count": 77,
   "id": "f4852f54",
   "metadata": {},
   "outputs": [],
   "source": [
    "rell = r.get(f\"https://leagueoflegends.fandom.com/wiki/Ahri/LoL/Audio\")"
   ]
  },
  {
   "cell_type": "code",
   "execution_count": 66,
   "id": "1f4619fb",
   "metadata": {},
   "outputs": [
    {
     "name": "stdout",
     "output_type": "stream",
     "text": [
      "Vel'koz 404\n"
     ]
    }
   ],
   "source": [
    "for i in lol_champions:\n",
    "    champ = r.get(f\"https://leagueoflegends.fandom.com/wiki/{i}/LoL/Audio\")\n",
    "    if champ.status_code == 404:\n",
    "        print(i + \" \" + str(champ.status_code))\n",
    "    soup = BeautifulSoup(champ.text, 'html.parser')\n",
    "    unsorted_lines = list(soup.find('div', class_=\"mw-parser-output\").find_all('i'))\n",
    "    sorted_lines = list(map(parse_voice_line, unsorted_lines))"
   ]
  },
  {
   "cell_type": "code",
   "execution_count": 58,
   "id": "b6dd011e",
   "metadata": {},
   "outputs": [],
   "source": [
    "def parse_voice_line(v_line):\n",
    "    tag_removed = str(v_line)[3:-4]\n",
    "    if ((tag_removed[0] == '\"') and (tag_removed[-1] == '\"')):\n",
    "        return(tag_removed[1:-1],True)\n",
    "    else:\n",
    "        return(tag_removed,False)"
   ]
  },
  {
   "cell_type": "code",
   "execution_count": 91,
   "id": "4515e5cb",
   "metadata": {},
   "outputs": [],
   "source": [
    "def get_champion_voice_lines(df, champion_name):\n",
    "    champ = r.get(f\"https://leagueoflegends.fandom.com/wiki/{champion_name}/LoL/Audio\")\n",
    "    if champ.status_code == 404:\n",
    "        print(i + \" \" + str(champ.status_code))\n",
    "    no_trivia = re.sub(r'<span class=\"mw-headline\" id=\"Trivia\">.*', '', champ.text, flags=re.DOTALL).strip()\n",
    "    soup = BeautifulSoup(no_trivia, 'html.parser')\n",
    "    unsorted_lines = list(soup.find('div', class_=\"mw-parser-output\").find_all('i'))\n",
    "    \n",
    "    sorted_lines = list(map(parse_voice_line, unsorted_lines))\n",
    "    formatted_lines = pd.DataFrame([[champion_name,line[0],line[1]] for line in sorted_lines],\n",
    "                                   columns=['champion', 'voice_line', 'is_spoken'])\n",
    "    #print(df.head())\n",
    "    df = pd.concat([df,formatted_lines])\n",
    "    return df"
   ]
  },
  {
   "cell_type": "code",
   "execution_count": 92,
   "id": "e3071ea8",
   "metadata": {},
   "outputs": [],
   "source": [
    "all_voice = pd.DataFrame(columns=['champion', 'voice_line', 'is_spoken'])\n",
    "for champion in lol_champions:\n",
    "    all_voice = get_champion_voice_lines(all_voice, champion)\n",
    "all_voice.to_csv(\"all_voice_lines.csv\", index=False, encoding='utf-8')"
   ]
  },
  {
   "cell_type": "markdown",
   "id": "3538913a",
   "metadata": {},
   "source": [
    "#### Cleanup Voice Lines"
   ]
  },
  {
   "cell_type": "code",
   "execution_count": 93,
   "id": "509ec1d5",
   "metadata": {},
   "outputs": [],
   "source": [
    "CLEANR = re.compile('<.*?>|&([a-z0-9]+|#[0-9]{1,6}|#x[0-9a-f]{1,6});')\n",
    "\n",
    "def cleanhtml(raw_html):\n",
    "    cleantext = re.sub(CLEANR, '', raw_html)\n",
    "    return cleantext\n",
    "# https://stackoverflow.com/questions/9662346/python-code-to-remove-html-tags-from-a-string"
   ]
  },
  {
   "cell_type": "code",
   "execution_count": 95,
   "id": "82893669",
   "metadata": {
    "scrolled": true
   },
   "outputs": [
    {
     "name": "stdout",
     "output_type": "stream",
     "text": [
      "  champion                                         voice_line  is_spoken\n",
      "0   Aatrox             Now, hear the silence of annihilation!       True\n",
      "1   Aatrox                                   Let me end this!       True\n",
      "2   Aatrox  Pantheon, I see you! Like a lamprey you attach...       True\n",
      "3   Aatrox  Pantheon! I will crush your godhood, I will ev...       True\n",
      "4   Aatrox  Targon sends an aspect against me? Prepare you...       True\n",
      "39565\n",
      "28904\n"
     ]
    }
   ],
   "source": [
    "all_voice = pd.DataFrame(pd.read_csv(\"all_voice_lines.csv\"))\n",
    "print(all_voice.head())\n",
    "print(len(all_voice))\n",
    "all_voice = all_voice.dropna()\n",
    "all_voice.drop(all_voice[all_voice.voice_line.str.endswith(\".ogg\")].index, inplace = True)\n",
    "all_voice.drop_duplicates(subset =\"voice_line\",\n",
    "                     keep = \"first\", inplace = True)\n",
    "all_voice.voice_line = all_voice.voice_line.map(cleanhtml)\n",
    "print(len(all_voice))\n",
    "all_voice.to_csv(\"clean_voice_lines.csv\")"
   ]
  },
  {
   "cell_type": "code",
   "execution_count": 103,
   "id": "e92181b8",
   "metadata": {},
   "outputs": [
    {
     "data": {
      "text/plain": [
       "Kayn        864\n",
       "Rakan       845\n",
       "Lux         813\n",
       "Ezreal      777\n",
       "Ahri        647\n",
       "           ... \n",
       "Amumu        12\n",
       "Singed       12\n",
       "Kassadin      9\n",
       "Shaco         9\n",
       "Bard          6\n",
       "Name: champion, Length: 158, dtype: int64"
      ]
     },
     "execution_count": 103,
     "metadata": {},
     "output_type": "execute_result"
    }
   ],
   "source": [
    "all_voice.champion.value_counts()"
   ]
  }
 ],
 "metadata": {
  "kernelspec": {
   "display_name": "Python 3",
   "language": "python",
   "name": "python3"
  },
  "language_info": {
   "codemirror_mode": {
    "name": "ipython",
    "version": 3
   },
   "file_extension": ".py",
   "mimetype": "text/x-python",
   "name": "python",
   "nbconvert_exporter": "python",
   "pygments_lexer": "ipython3",
   "version": "3.9.5"
  }
 },
 "nbformat": 4,
 "nbformat_minor": 5
}
