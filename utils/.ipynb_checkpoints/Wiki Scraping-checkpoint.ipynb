{
 "cells": [
  {
   "cell_type": "code",
   "execution_count": 132,
   "id": "e68f3379",
   "metadata": {},
   "outputs": [],
   "source": [
    "import requests as r\n",
    "import pandas as pd\n",
    "from bs4 import BeautifulSoup"
   ]
  },
  {
   "cell_type": "markdown",
   "id": "79fdb699",
   "metadata": {},
   "source": [
    "# All champion names"
   ]
  },
  {
   "cell_type": "code",
   "execution_count": 54,
   "id": "ee4ea9f1",
   "metadata": {},
   "outputs": [
    {
     "name": "stdout",
     "output_type": "stream",
     "text": [
      "['Aatrox', 'Ahri', 'Akali', 'Akshan', 'Alistar', 'Amumu', 'Anivia', 'Annie', 'Aphelios', 'Ashe', 'AurelionSol', 'Azir', 'Bard', 'Blitzcrank', 'Brand', 'Braum', 'Caitlyn', 'Camille', 'Cassiopeia', 'Chogath', 'Corki', 'Darius', 'Diana', 'Draven', 'DrMundo', 'Ekko', 'Elise', 'Evelynn', 'Ezreal', 'Fiddlesticks', 'Fiora', 'Fizz', 'Galio', 'Gangplank', 'Garen', 'Gnar', 'Gragas', 'Graves', 'Gwen', 'Hecarim', 'Heimerdinger', 'Illaoi', 'Irelia', 'Ivern', 'Janna', 'JarvanIV', 'Jax', 'Jayce', 'Jhin', 'Jinx', 'Kaisa', 'Kalista', 'Karma', 'Karthus', 'Kassadin', 'Katarina', 'Kayle', 'Kayn', 'Kennen', 'Khazix', 'Kindred', 'Kled', 'KogMaw', 'Leblanc', 'LeeSin', 'Leona', 'Lillia', 'Lissandra', 'Lucian', 'Lulu', 'Lux', 'Malphite', 'Malzahar', 'Maokai', 'MasterYi', 'MissFortune', 'MonkeyKing', 'Mordekaiser', 'Morgana', 'Nami', 'Nasus', 'Nautilus', 'Neeko', 'Nidalee', 'Nocturne', 'Nunu', 'Olaf', 'Orianna', 'Ornn', 'Pantheon', 'Poppy', 'Pyke', 'Qiyana', 'Quinn', 'Rakan', 'Rammus', 'RekSai', 'Rell', 'Renekton', 'Rengar', 'Riven', 'Rumble', 'Ryze', 'Samira', 'Sejuani', 'Senna', 'Seraphine', 'Sett', 'Shaco', 'Shen', 'Shyvana', 'Singed', 'Sion', 'Sivir', 'Skarner', 'Sona', 'Soraka', 'Swain', 'Sylas', 'Syndra', 'TahmKench', 'Taliyah', 'Talon', 'Taric', 'Teemo', 'Thresh', 'Tristana', 'Trundle', 'Tryndamere', 'TwistedFate', 'Twitch', 'Udyr', 'Urgot', 'Varus', 'Vayne', 'Veigar', 'Velkoz', 'Vex', 'Vi', 'Viego', 'Viktor', 'Vladimir', 'Volibear', 'Warwick', 'Xayah', 'Xerath', 'XinZhao', 'Yasuo', 'Yone', 'Yorick', 'Yuumi', 'Zac', 'Zed', 'Zeri', 'Ziggs', 'Zilean', 'Zoe', 'Zyra']\n"
     ]
    }
   ],
   "source": [
    "patch = \"12.2.1\"\n",
    "ddragon = r.get(f\"http://ddragon.leagueoflegends.com/cdn/{patch}/data/en_US/champion.json\").json()\n",
    "champions = list(ddragon['data'].keys())\n",
    "print(champions)"
   ]
  },
  {
   "cell_type": "code",
   "execution_count": 67,
   "id": "18620ea7",
   "metadata": {},
   "outputs": [],
   "source": [
    "corrections = {\n",
    "    \"AurelionSol\": \"Aurelion_Sol\",\n",
    "    \"Chogath\": \"Cho'Gath\",\n",
    "    \"DrMundo\": \"Dr._Mundo\",\n",
    "    \"JarvanIV\": \"Jarvan_IV\",\n",
    "    \"Kaisa\": \"Kai'Sa\",\n",
    "    \"Khazix\": \"Kha'Zix\",\n",
    "    \"KogMaw\": \"Kog'Maw\",\n",
    "    \"Leblanc\": \"LeBlanc\", #wiki links are case sensitive\n",
    "    \"LeeSin\": \"Lee_Sin\",\n",
    "    \"MasterYi\": \"Master_Yi\",\n",
    "    \"MissFortune\": \"Miss_Fortune\",\n",
    "    \"MonkeyKing\": \"Wukong\", #lol\n",
    "    \"RekSai\": \"Rek'Sai\",\n",
    "    \"TahmKench\": \"Tahm_Kench\",\n",
    "    \"TwistedFate\": \"Twisted_Fate\",\n",
    "    \"Velkoz\": \"Vel'Koz\",\n",
    "    \"XinZhao\": \"Xin_Zhao\"\n",
    "}"
   ]
  },
  {
   "cell_type": "code",
   "execution_count": 68,
   "id": "620bd72e",
   "metadata": {},
   "outputs": [],
   "source": [
    "lol_champions = list(map(corrections.get, champions, champions))"
   ]
  },
  {
   "cell_type": "markdown",
   "id": "477d6250",
   "metadata": {},
   "source": [
    "### Testing scraping League of Legends wiki"
   ]
  },
  {
   "cell_type": "code",
   "execution_count": 77,
   "id": "4edd1f45",
   "metadata": {},
   "outputs": [],
   "source": [
    "rell = r.get(f\"https://leagueoflegends.fandom.com/wiki/Ahri/LoL/Audio\")"
   ]
  },
  {
   "cell_type": "code",
   "execution_count": 66,
   "id": "2ae46c68",
   "metadata": {},
   "outputs": [
    {
     "name": "stdout",
     "output_type": "stream",
     "text": [
      "Vel'koz 404\n"
     ]
    }
   ],
   "source": [
    "for i in lol_champions:\n",
    "    champ = r.get(f\"https://leagueoflegends.fandom.com/wiki/{i}/LoL/Audio\")\n",
    "    if champ.status_code == 404:\n",
    "        print(i + \" \" + str(champ.status_code))\n",
    "    soup = BeautifulSoup(champ.text, 'html.parser')\n",
    "    unsorted_lines = list(soup.find('div', class_=\"mw-parser-output\").find_all('i'))\n",
    "    sorted_lines = list(map(parse_voice_line, unsorted_lines))\n",
    "    "
   ]
  },
  {
   "cell_type": "code",
   "execution_count": 203,
   "id": "040f7c54",
   "metadata": {},
   "outputs": [],
   "source": [
    "def get_champion_voice_lines(df, champion_name):\n",
    "    champ = r.get(f\"https://leagueoflegends.fandom.com/wiki/{champion_name}/LoL/Audio\")\n",
    "    if champ.status_code == 404:\n",
    "        print(i + \" \" + str(champ.status_code))\n",
    "    soup = BeautifulSoup(champ.text, 'html.parser')\n",
    "    unsorted_lines = list(soup.find('div', class_=\"mw-parser-output\").find_all('i'))\n",
    "    sorted_lines = list(map(parse_voice_line, unsorted_lines))\n",
    "    formatted_lines = pd.DataFrame([[champion_name,line[0],line[1]] for line in sorted_lines],\n",
    "                                   columns=['champion', 'voice_line', 'is_spoken'])\n",
    "    #print(df.head())\n",
    "    df = pd.concat([df,formatted_lines])\n",
    "    return df"
   ]
  },
  {
   "cell_type": "code",
   "execution_count": 179,
   "id": "04292e92",
   "metadata": {},
   "outputs": [],
   "source": [
    "test_champs = [\"Ahri\",\"Akali\",\"Yone\"]"
   ]
  },
  {
   "cell_type": "code",
   "execution_count": 206,
   "id": "4bce8953",
   "metadata": {},
   "outputs": [],
   "source": [
    "all_voice = pd.DataFrame(columns=['champion', 'voice_line', 'is_spoken'])\n",
    "for champion in lol_champions:\n",
    "    #print(all_voice.head())\n",
    "    all_voice = get_champion_voice_lines(all_voice, champion)"
   ]
  },
  {
   "cell_type": "code",
   "execution_count": 208,
   "id": "4a9ddac1",
   "metadata": {},
   "outputs": [],
   "source": [
    "all_voice.to_csv(\"all_voice_lines.csv\")"
   ]
  },
  {
   "cell_type": "code",
   "execution_count": 102,
   "id": "b436c73c",
   "metadata": {},
   "outputs": [],
   "source": [
    "ahri = list(soup.find('div', class_=\"mw-parser-output\").find_all('i'))"
   ]
  },
  {
   "cell_type": "code",
   "execution_count": 115,
   "id": "548569c2",
   "metadata": {},
   "outputs": [
    {
     "data": {
      "text/plain": [
       "'bcdef'"
      ]
     },
     "execution_count": 115,
     "metadata": {},
     "output_type": "execute_result"
    }
   ],
   "source": [
    "'abcdefg'[1:-1]"
   ]
  },
  {
   "cell_type": "code",
   "execution_count": 151,
   "id": "2fec2f66",
   "metadata": {},
   "outputs": [],
   "source": [
    "def parse_voice_line(v_line):\n",
    "    tag_removed = str(v_line)[3:-4]\n",
    "    if ((tag_removed[0] == '\"') and (tag_removed[-1] == '\"')):\n",
    "        return(tag_removed[1:-1],True)\n",
    "    else:\n",
    "        return(tag_removed,False)"
   ]
  },
  {
   "cell_type": "code",
   "execution_count": 130,
   "id": "bf48d51f",
   "metadata": {},
   "outputs": [],
   "source": [
    "a = list(map(parse_voice_line, ahri))"
   ]
  },
  {
   "cell_type": "code",
   "execution_count": 131,
   "id": "8582bdbf",
   "metadata": {},
   "outputs": [
    {
     "name": "stdout",
     "output_type": "stream",
     "text": [
      "(\"Don't you trust me?\", True)\n"
     ]
    }
   ],
   "source": [
    "print(a[0])"
   ]
  }
 ],
 "metadata": {
  "kernelspec": {
   "display_name": "Python 3 (ipykernel)",
   "language": "python",
   "name": "python3"
  },
  "language_info": {
   "codemirror_mode": {
    "name": "ipython",
    "version": 3
   },
   "file_extension": ".py",
   "mimetype": "text/x-python",
   "name": "python",
   "nbconvert_exporter": "python",
   "pygments_lexer": "ipython3",
   "version": "3.9.13"
  }
 },
 "nbformat": 4,
 "nbformat_minor": 5
}
